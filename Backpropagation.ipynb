{
 "cells": [
  {
   "cell_type": "code",
   "execution_count": 1,
   "metadata": {
    "collapsed": true
   },
   "outputs": [],
   "source": [
    "# Import necessary libraries\n",
    "import numpy as np"
   ]
  },
  {
   "cell_type": "code",
   "execution_count": 2,
   "metadata": {
    "collapsed": true
   },
   "outputs": [],
   "source": [
    "# Sigmoid activation layer\n",
    "def sigmoid(x):\n",
    "    return 1/(1+np.exp(-x))"
   ]
  },
  {
   "cell_type": "code",
   "execution_count": 3,
   "metadata": {
    "collapsed": true
   },
   "outputs": [],
   "source": [
    "# Derivating of sigmoid activation function\n",
    "def calculate_derivative(activation_fn,x):\n",
    "    return sigmoid(x)*(1-sigmoid(x))"
   ]
  },
  {
   "cell_type": "code",
   "execution_count": 4,
   "metadata": {
    "collapsed": false
   },
   "outputs": [],
   "source": [
    "# Calculating forward pass in the network with given data point\n",
    "def forward_pass(network,row,activation_fn):\n",
    "    for i,layer_parameters in enumerate(network):\n",
    "        if i == 0:\n",
    "            network[i][\"inputs\"] = np.dot(row,layer_parameters[\"weights\"]).flatten()\n",
    "        else:\n",
    "            network[i][\"inputs\"] = np.dot(network[i-1][\"outputs\"],layer_parameters[\"weights\"]).flatten()\n",
    "        network[i][\"outputs\"] = activation_fn(network[i][\"inputs\"]).flatten()\n",
    "    return network,network[-1][\"outputs\"]"
   ]
  },
  {
   "cell_type": "code",
   "execution_count": 5,
   "metadata": {
    "collapsed": false
   },
   "outputs": [],
   "source": [
    "# Calculating backward pass in the network \n",
    "def backward_pass(network,expected):\n",
    "    for i in reversed(range(len(network))):\n",
    "        if i == len(network)-1:\n",
    "            # Output layer and hence expected - network outputs\n",
    "            network[i][\"delta\"] = (expected-network[i][\"outputs\"]).reshape(-1,1)* \\\n",
    "                calculate_derivative(sigmoid,np.sum(network[i][\"weights\"].T*network[i][\"outputs\"].reshape(-1,1),axis=1)).reshape(-1,1)\n",
    "        else:\n",
    "            # delta for a given hidden layer\n",
    "            network[i][\"delta\"] = np.dot(network[i+1][\"weights\"],network[i+1][\"delta\"].reshape(-1,1)).T* \\\n",
    "                calculate_derivative(sigmoid,np.sum(network[i][\"weights\"].T*network[i][\"outputs\"].reshape(-1,1),axis=1))\n",
    "                \n",
    "    return network"
   ]
  },
  {
   "cell_type": "code",
   "execution_count": 6,
   "metadata": {
    "collapsed": false
   },
   "outputs": [],
   "source": [
    "# Updating weigts for each neuron\n",
    "def update_weights(network,row,l_rate):\n",
    "    for i in range(len(network)):\n",
    "        if i != 0:\n",
    "            network[i][\"weights\"] += np.array(l_rate*network[i-1][\"outputs\"]*network[i][\"delta\"].reshape(-1,1) \\\n",
    "                                              ).reshape(network[i][\"weights\"].shape)\n",
    "        else:\n",
    "            network[i][\"weights\"] += np.array(l_rate*network[i][\"delta\"].reshape(-1,1)*np.array(row).reshape(1,-1)).reshape(network[i][\"weights\"].shape)\n",
    "    return network"
   ]
  },
  {
   "cell_type": "code",
   "execution_count": 7,
   "metadata": {
    "collapsed": false
   },
   "outputs": [
    {
     "name": "stdout",
     "output_type": "stream",
     "text": [
      "([{'outputs': array([ 0.49500017]), 'weights': array([[ 0.4],\n",
      "       [-0.2]]), 'inputs': array([-0.02]), 'delta': []}, {'outputs': array([ 0.51237248]), 'weights': array([[ 0.1]]), 'inputs': array([ 0.04950002]), 'delta': []}], array([ 0.51237248]))\n",
      "[{'outputs': array([ 0.49500017]), 'weights': array([[ 0.4],\n",
      "       [-0.2]]), 'inputs': array([-0.02]), 'delta': array([[ 0.00303822]])}, {'outputs': array([ 0.51237248]), 'weights': array([[ 0.1]]), 'inputs': array([ 0.04950002]), 'delta': array([[ 0.12182691]])}]\n",
      "[{'outputs': array([ 0.49500017]), 'weights': array([[ 0.40015191],\n",
      "       [-0.19954427]]), 'inputs': array([-0.02]), 'delta': array([[ 0.00303822]])}, {'outputs': array([ 0.51237248]), 'weights': array([[ 0.13015217]]), 'inputs': array([ 0.04950002]), 'delta': array([[ 0.12182691]])}]\n"
     ]
    }
   ],
   "source": [
    "import copy\n",
    "parameters = {\"weights\":[],\"inputs\":[],\"outputs\":[],\"delta\":[]}\n",
    "network = []\n",
    "network += [copy.deepcopy(parameters)]\n",
    "network += [copy.deepcopy(parameters)]\n",
    "network[0][\"weights\"] = np.array([[0.4],[-0.2]])\n",
    "network[1][\"weights\"] = np.array([[0.1]])\n",
    "network\n",
    "print(forward_pass(network,np.array([[0.1,0.3]]),sigmoid))\n",
    "print(backward_pass(network,1.0))\n",
    "print(update_weights(network,np.array([[0.1,0.3]]),0.5))"
   ]
  },
  {
   "cell_type": "code",
   "execution_count": 8,
   "metadata": {
    "collapsed": true
   },
   "outputs": [],
   "source": [
    "# Initialize a network\n",
    "def initialize_network(n_inputs, n_hidden,n_hidden_units, n_outputs):\n",
    "    network = list()\n",
    "    parameters = {\"weights\":[],\"inputs\":[],\"outputs\":[],\"delta\":[]}\n",
    "    for i in range(n_hidden):\n",
    "        network.append(copy.deepcopy(parameters))\n",
    "        if i == 0:\n",
    "            network[i][\"weights\"] = np.random.normal(scale=0.001,size=(n_inputs, n_hidden_units))\n",
    "        else:\n",
    "            network[i][\"weights\"] = np.random.normal(scale=0.001 ** .5,size=(n_hidden_units, n_hidden_units))\n",
    "    output_layer = copy.deepcopy(parameters)\n",
    "    output_layer[\"weights\"] = np.random.normal(scale=0.01,size=(n_hidden_units, n_outputs))\n",
    "    network.append(output_layer)\n",
    "    return network"
   ]
  },
  {
   "cell_type": "code",
   "execution_count": 9,
   "metadata": {
    "collapsed": true
   },
   "outputs": [],
   "source": [
    "# Train a network for a fixed number of epochs\n",
    "def train_network(network, train, l_rate, n_epoch, n_outputs):\n",
    "    for epoch in range(n_epoch):\n",
    "        sum_error = 0\n",
    "        for row in train:\n",
    "            outputs = forward_pass(network, row[:-1],sigmoid)[1]\n",
    "            expected = [0 for i in range(n_outputs)]\n",
    "            expected[row[-1]] = 1\n",
    "            sum_error += sum([(expected[i]-outputs[i])**2 for i in range(len(expected))])\n",
    "            backward_pass(network, expected)\n",
    "            update_weights(network, row[:-1], l_rate)\n",
    "        print('>epoch=%d, lrate=%.3f, error=%.3f' % (epoch, l_rate, sum_error))"
   ]
  },
  {
   "cell_type": "code",
   "execution_count": 16,
   "metadata": {
    "collapsed": false
   },
   "outputs": [
    {
     "name": "stdout",
     "output_type": "stream",
     "text": [
      ">epoch=0, lrate=1.000, error=5.000\n",
      ">epoch=1, lrate=1.000, error=5.000\n",
      ">epoch=2, lrate=1.000, error=5.000\n",
      ">epoch=3, lrate=1.000, error=4.998\n",
      ">epoch=4, lrate=1.000, error=4.990\n",
      ">epoch=5, lrate=1.000, error=4.950\n",
      ">epoch=6, lrate=1.000, error=4.808\n",
      ">epoch=7, lrate=1.000, error=4.451\n",
      ">epoch=8, lrate=1.000, error=3.869\n",
      ">epoch=9, lrate=1.000, error=3.229\n",
      ">epoch=10, lrate=1.000, error=2.622\n",
      ">epoch=11, lrate=1.000, error=2.090\n",
      ">epoch=12, lrate=1.000, error=1.688\n",
      ">epoch=13, lrate=1.000, error=1.435\n",
      ">epoch=14, lrate=1.000, error=1.334\n"
     ]
    }
   ],
   "source": [
    "# Test training backprop algorithm\n",
    "dataset = [[2.7810836,2.550537003,0],\n",
    "    [1.465489372,2.362125076,0],\n",
    "    [3.396561688,4.400293529,0],\n",
    "    [1.38807019,1.850220317,0],\n",
    "    [3.06407232,3.005305973,0],\n",
    "    [7.627531214,2.759262235,1],\n",
    "    [5.332441248,2.088626775,1],\n",
    "    [6.922596716,1.77106367,1],\n",
    "    [8.675418651,-0.242068655,1],\n",
    "    [7.673756466,3.508563011,1]]\n",
    "n_inputs = len(dataset[0]) - 1\n",
    "n_outputs = len(set([row[-1] for row in dataset]))\n",
    "network = initialize_network(n_inputs, 1,2, n_outputs)\n",
    "train_network(network, dataset, 1.0, 15, n_outputs)"
   ]
  }
 ],
 "metadata": {
  "anaconda-cloud": {},
  "kernelspec": {
   "display_name": "Python [conda env:anaconda3]",
   "language": "python",
   "name": "conda-env-anaconda3-py"
  },
  "language_info": {
   "codemirror_mode": {
    "name": "ipython",
    "version": 3
   },
   "file_extension": ".py",
   "mimetype": "text/x-python",
   "name": "python",
   "nbconvert_exporter": "python",
   "pygments_lexer": "ipython3",
   "version": "3.5.2"
  }
 },
 "nbformat": 4,
 "nbformat_minor": 1
}
